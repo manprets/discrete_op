{
 "metadata": {
  "name": "",
  "signature": "sha256:94ba8677878cbdedef7dd7bfdde428d41d65e36e13b30210878e8c847d61fa25"
 },
 "nbformat": 3,
 "nbformat_minor": 0,
 "worksheets": [
  {
   "cells": [
    {
     "cell_type": "code",
     "collapsed": false,
     "input": [
      "import os"
     ],
     "language": "python",
     "metadata": {},
     "outputs": [],
     "prompt_number": 2
    },
    {
     "cell_type": "code",
     "collapsed": false,
     "input": [
      "os.listdir('.')"
     ],
     "language": "python",
     "metadata": {},
     "outputs": [
      {
       "metadata": {},
       "output_type": "pyout",
       "prompt_number": 3,
       "text": [
        "['.ipynb_checkpoints',\n",
        " '_coursera',\n",
        " 'data',\n",
        " 'handout.pdf',\n",
        " 'knapsack.ipynb',\n",
        " 'Solver.java',\n",
        " 'solver.py',\n",
        " 'solver.pyc',\n",
        " 'solverJava.py',\n",
        " 'submit.py']"
       ]
      }
     ],
     "prompt_number": 3
    },
    {
     "cell_type": "code",
     "collapsed": false,
     "input": [
      "os.listdir('./data/')"
     ],
     "language": "python",
     "metadata": {},
     "outputs": [
      {
       "metadata": {},
       "output_type": "pyout",
       "prompt_number": 4,
       "text": [
        "['ks_10000_0',\n",
        " 'ks_1000_0',\n",
        " 'ks_100_0',\n",
        " 'ks_100_1',\n",
        " 'ks_100_2',\n",
        " 'ks_106_0',\n",
        " 'ks_19_0',\n",
        " 'ks_200_0',\n",
        " 'ks_200_1',\n",
        " 'ks_300_0',\n",
        " 'ks_30_0',\n",
        " 'ks_400_0',\n",
        " 'ks_40_0',\n",
        " 'ks_45_0',\n",
        " 'ks_4_0',\n",
        " 'ks_500_0',\n",
        " 'ks_50_0',\n",
        " 'ks_50_1',\n",
        " 'ks_60_0',\n",
        " 'ks_82_0',\n",
        " 'ks_lecture_dp_1',\n",
        " 'ks_lecture_dp_2']"
       ]
      }
     ],
     "prompt_number": 4
    },
    {
     "cell_type": "code",
     "collapsed": false,
     "input": [
      "from collections import namedtuple\n",
      "Item = namedtuple(\"Item\", ['index', 'value', 'weight'])\n",
      "\n",
      "def print_knapsack_info(items, item_count, capacity):\n",
      "    print 'item_count:', item_count, ' K:', capacity\n",
      "    print 'index, value, weight'\n",
      "    for item in items:\n",
      "        print item.index, item.value, item.weight\n",
      "    print '\\n'\n",
      "    \n",
      "def solve_it(input_data):\n",
      "    # Modify this code to run your optimization algorithm\n",
      "\n",
      "    # parse the input\n",
      "    lines = input_data.split('\\n')\n",
      "\n",
      "    firstLine = lines[0].split()\n",
      "    item_count = int(firstLine[0])\n",
      "    capacity = int(firstLine[1])\n",
      "\n",
      "    items = []\n",
      "\n",
      "    for i in range(1, item_count+1):\n",
      "        line = lines[i]\n",
      "        parts = line.split()\n",
      "        items.append(Item(i-1, int(parts[0]), int(parts[1])))\n",
      "\n",
      "    print_knapsack_info(items, item_count, capacity)\n",
      "    \n",
      "    # a trivial greedy algorithm for filling the knapsack\n",
      "    # it takes items in-order until the knapsack is full\n",
      "    value = 0\n",
      "    weight = 0\n",
      "    taken = [0]*len(items)\n",
      "\n",
      "    for item in items:\n",
      "        if weight + item.weight <= capacity:\n",
      "            taken[item.index] = 1\n",
      "            value += item.value\n",
      "            weight += item.weight\n",
      "    \n",
      "    # prepare the solution in the specified output format\n",
      "    output_data = str(value) + ' ' + str(0) + '\\n'\n",
      "    output_data += ' '.join(map(str, taken))\n",
      "    return output_data"
     ],
     "language": "python",
     "metadata": {},
     "outputs": [],
     "prompt_number": 21
    },
    {
     "cell_type": "code",
     "collapsed": false,
     "input": [
      "file_location = './data/ks_4_0'\n",
      "with open(file_location, 'r') as input_data_file:\n",
      "    input_data = input_data_file.read()\n",
      "print(solve_it(input_data))"
     ],
     "language": "python",
     "metadata": {},
     "outputs": [
      {
       "output_type": "stream",
       "stream": "stdout",
       "text": [
        "item_count: 4  K: 11\n",
        "index, value, weight\n",
        "0 8 4\n",
        "1 10 5\n",
        "2 15 8\n",
        "3 4 3\n",
        "\n",
        "\n",
        "18 0\n",
        "1 1 0 0\n"
       ]
      }
     ],
     "prompt_number": 22
    },
    {
     "cell_type": "code",
     "collapsed": false,
     "input": [
      "file_location = './data/ks_lecture_dp_2'\n",
      "with open(file_location, 'r') as input_data_file:\n",
      "    input_data = input_data_file.read()\n",
      "print(solve_it(input_data))"
     ],
     "language": "python",
     "metadata": {},
     "outputs": [
      {
       "output_type": "stream",
       "stream": "stdout",
       "text": [
        "item_count: 4  K: 7\n",
        "index, value, weight\n",
        "0 16 2\n",
        "1 19 3\n",
        "2 23 4\n",
        "3 28 5\n",
        "\n",
        "\n",
        "35 0\n",
        "1 1 0 0\n"
       ]
      }
     ],
     "prompt_number": 25
    },
    {
     "cell_type": "code",
     "collapsed": false,
     "input": [
      "def solve_it(input_data):\n",
      "    # Modify this code to run your optimization algorithm\n",
      "\n",
      "    # parse the input\n",
      "    lines = input_data.split('\\n')\n",
      "\n",
      "    firstLine = lines[0].split()\n",
      "    item_count = int(firstLine[0])\n",
      "    capacity = int(firstLine[1])\n",
      "\n",
      "    items = []\n",
      "\n",
      "    for i in range(1, item_count+1):\n",
      "        line = lines[i]\n",
      "        parts = line.split()\n",
      "        items.append(Item(i-1, int(parts[0]), int(parts[1])))\n",
      "\n",
      "    print_knapsack_info(items, item_count, capacity)\n",
      "    \n",
      "    # a trivial greedy algorithm for filling the knapsack\n",
      "    # it takes items in-order until the knapsack is full\n",
      "    value = 0\n",
      "    weight = 0\n",
      "    taken = [0]*len(items)\n",
      "\n",
      "    for item in items:\n",
      "        if weight + item.weight <= capacity:\n",
      "            taken[item.index] = 1\n",
      "            value += item.value\n",
      "            weight += item.weight\n",
      "    \n",
      "    # prepare the solution in the specified output format\n",
      "    output_data = str(value) + ' ' + str(0) + '\\n'\n",
      "    output_data += ' '.join(map(str, taken))\n",
      "    return output_data"
     ],
     "language": "python",
     "metadata": {},
     "outputs": [
      {
       "metadata": {},
       "output_type": "pyout",
       "prompt_number": 7,
       "text": [
        "'4 11\\n8 4\\n10 5\\n15 8\\n4 3\\n'"
       ]
      }
     ],
     "prompt_number": 7
    },
    {
     "cell_type": "code",
     "collapsed": false,
     "input": [],
     "language": "python",
     "metadata": {},
     "outputs": []
    },
    {
     "cell_type": "code",
     "collapsed": false,
     "input": [],
     "language": "python",
     "metadata": {},
     "outputs": []
    }
   ],
   "metadata": {}
  }
 ]
}