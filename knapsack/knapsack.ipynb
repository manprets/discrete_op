{
 "metadata": {
  "name": "",
  "signature": "sha256:337433e5f14bcf5f14fbc33e7ede9ff0d317d766100fbc7149fde46f370c49ef"
 },
 "nbformat": 3,
 "nbformat_minor": 0,
 "worksheets": [
  {
   "cells": [
    {
     "cell_type": "code",
     "collapsed": false,
     "input": [
      "import os"
     ],
     "language": "python",
     "metadata": {},
     "outputs": [],
     "prompt_number": 3
    },
    {
     "cell_type": "code",
     "collapsed": false,
     "input": [
      "os.listdir('.')"
     ],
     "language": "python",
     "metadata": {},
     "outputs": [
      {
       "metadata": {},
       "output_type": "pyout",
       "prompt_number": 4,
       "text": [
        "['.ipynb_checkpoints',\n",
        " '_coursera',\n",
        " 'data',\n",
        " 'handout.pdf',\n",
        " 'knapsack.ipynb',\n",
        " 'Solver.java',\n",
        " 'solver.py',\n",
        " 'solver.pyc',\n",
        " 'solverJava.py',\n",
        " 'submit.py']"
       ]
      }
     ],
     "prompt_number": 4
    },
    {
     "cell_type": "code",
     "collapsed": false,
     "input": [
      "os.listdir('./data/')"
     ],
     "language": "python",
     "metadata": {},
     "outputs": [
      {
       "metadata": {},
       "output_type": "pyout",
       "prompt_number": 5,
       "text": [
        "['ks_10000_0',\n",
        " 'ks_1000_0',\n",
        " 'ks_100_0',\n",
        " 'ks_100_1',\n",
        " 'ks_100_2',\n",
        " 'ks_106_0',\n",
        " 'ks_19_0',\n",
        " 'ks_200_0',\n",
        " 'ks_200_1',\n",
        " 'ks_300_0',\n",
        " 'ks_30_0',\n",
        " 'ks_400_0',\n",
        " 'ks_40_0',\n",
        " 'ks_45_0',\n",
        " 'ks_4_0',\n",
        " 'ks_500_0',\n",
        " 'ks_50_0',\n",
        " 'ks_50_1',\n",
        " 'ks_60_0',\n",
        " 'ks_82_0',\n",
        " 'ks_lecture_dp_1',\n",
        " 'ks_lecture_dp_2']"
       ]
      }
     ],
     "prompt_number": 5
    },
    {
     "cell_type": "code",
     "collapsed": false,
     "input": [
      "from collections import namedtuple\n",
      "Item = namedtuple(\"Item\", ['index', 'value', 'weight'])\n",
      "\n",
      "def print_knapsack_info(items, item_count, capacity):\n",
      "    print 'item_count:', item_count, ' K:', capacity\n",
      "    print 'index\\tvalue\\tweight'\n",
      "    for item in items:\n",
      "        #print item.index, item.value, item.weight\n",
      "        print str(item.index)+'\\t'+str(item.value)+'\\t'+str(item.weight)\n",
      "    print '\\n'\n",
      "    \n",
      "def solve_it(input_data):\n",
      "    # Modify this code to run your optimization algorithm\n",
      "\n",
      "    # parse the input\n",
      "    lines = input_data.split('\\n')\n",
      "\n",
      "    firstLine = lines[0].split()\n",
      "    item_count = int(firstLine[0])\n",
      "    capacity = int(firstLine[1])\n",
      "\n",
      "    items = []\n",
      "\n",
      "    for i in range(1, item_count+1):\n",
      "        line = lines[i]\n",
      "        parts = line.split()\n",
      "        items.append(Item(i-1, int(parts[0]), int(parts[1])))\n",
      "\n",
      "    print_knapsack_info(items, item_count, capacity)\n",
      "    \n",
      "    # a trivial greedy algorithm for filling the knapsack\n",
      "    # it takes items in-order until the knapsack is full\n",
      "    value = 0\n",
      "    weight = 0\n",
      "    taken = [0]*len(items)\n",
      "\n",
      "    for item in items:\n",
      "        if weight + item.weight <= capacity:\n",
      "            taken[item.index] = 1\n",
      "            value += item.value\n",
      "            weight += item.weight\n",
      "    \n",
      "    # prepare the solution in the specified output format\n",
      "    output_data = str(value) + ' ' + str(0) + '\\n'\n",
      "    output_data += ' '.join(map(str, taken))\n",
      "    return output_data"
     ],
     "language": "python",
     "metadata": {},
     "outputs": [],
     "prompt_number": 22
    },
    {
     "cell_type": "code",
     "collapsed": false,
     "input": [
      "file_location = './data/ks_4_0'\n",
      "with open(file_location, 'r') as input_data_file:\n",
      "    input_data = input_data_file.read()\n",
      "print(solve_it(input_data))"
     ],
     "language": "python",
     "metadata": {},
     "outputs": [
      {
       "output_type": "stream",
       "stream": "stdout",
       "text": [
        "item_count: 4  K: 11\n",
        "index\tvalue\tweight\n",
        "0\t8\t4\n",
        "1\t10\t5\n",
        "2\t15\t8\n",
        "3\t4\t3\n",
        "\n",
        "\n",
        "18 0\n",
        "1 1 0 0\n"
       ]
      }
     ],
     "prompt_number": 23
    },
    {
     "cell_type": "code",
     "collapsed": false,
     "input": [
      "file_location = './data/ks_lecture_dp_2'\n",
      "with open(file_location, 'r') as input_data_file:\n",
      "    input_data = input_data_file.read()\n",
      "print(solve_it(input_data))"
     ],
     "language": "python",
     "metadata": {},
     "outputs": [
      {
       "output_type": "stream",
       "stream": "stdout",
       "text": [
        "item_count: 4  K: 7\n",
        "index\tvalue\tweight\n",
        "0\t16\t2\n",
        "1\t19\t3\n",
        "2\t23\t4\n",
        "3\t28\t5\n",
        "\n",
        "\n",
        "35 0\n",
        "1 1 0 0\n"
       ]
      }
     ],
     "prompt_number": 24
    },
    {
     "cell_type": "code",
     "collapsed": false,
     "input": [
      "import numpy as np\n",
      "\n",
      "def populate_T_arr(T,items,K):\n",
      "    #K is capacity\n",
      "    # dimension of T should be len(items), K+1\n",
      "    n_rows,n_cols = T.shape\n",
      "    \n",
      "    for item in items:\n",
      "        wt=item.weight\n",
      "        val=item.value\n",
      "        idx=item.index\n",
      "        if idx==0:\n",
      "            for jdx in range(n_cols):\n",
      "                if jdx<wt:\n",
      "                    T[idx][jdx]=0\n",
      "                else:\n",
      "                    T[idx][jdx]=val\n",
      "        elif idx>0:\n",
      "            for jdx in range(n_cols):\n",
      "                if jdx<wt:\n",
      "                    T[idx][jdx]=T[idx-1][jdx]\n",
      "                else:\n",
      "                    T[idx][jdx]=max(val+T[idx-1][jdx-wt],T[idx-1][jdx])\n",
      "\n",
      "\n",
      "def get_chosen_items(T, items):\n",
      "    n_rows,n_cols = T.shape\n",
      "    \n",
      "    chosen = [0]*n_rows\n",
      "    \n",
      "    max_val=T[n_rows-1][n_cols-1]\n",
      "    lcol=n_cols-1\n",
      "    lrow=n_rows-1\n",
      "    #for lrow in range(n_rows-1,-1,-1):\n",
      "    counter=0\n",
      "    while(1):\n",
      "        if lcol<=0 or lrow<0:\n",
      "            break\n",
      "        val=T[lrow][lcol]\n",
      "        if counter==n_rows-1:\n",
      "            if val>0:\n",
      "                chosen[lrow]=1\n",
      "                break\n",
      "        \n",
      "        val_up=T[lrow-1][lcol]\n",
      "        #print counter,lrow,lcol,val,val_up\n",
      "        \n",
      "        if val>val_up:\n",
      "            chosen[lrow]=1\n",
      "            lcol=lcol-items[lrow].weight\n",
      "        else:\n",
      "            chosen[lrow]=0\n",
      "        \n",
      "        counter=counter+1\n",
      "        lrow=lrow-1\n",
      "        #print chosen,counter,lrow,lcol\n",
      "\n",
      "    return chosen\n",
      "\n",
      "def print_chosen(chosen):\n",
      "    print 'chosen:'\n",
      "    print chosen\n",
      "    print '\\n'\n",
      "\n",
      "def print_T(T):\n",
      "    n_rows,n_cols = T.shape\n",
      "    print 'T:'\n",
      "    for row in range(n_rows):\n",
      "        row_str=''\n",
      "        for col in range(n_cols):\n",
      "            row_str=row_str+str(T[row][col])+str('\\t')\n",
      "        print row_str#T[row][col]\n",
      "    print '\\n'\n",
      "    \n",
      "def solve_it(input_data):\n",
      "    # Modify this code to run your optimization algorithm\n",
      "\n",
      "    # parse the input\n",
      "    lines = input_data.split('\\n')\n",
      "\n",
      "    firstLine = lines[0].split()\n",
      "    item_count = int(firstLine[0])\n",
      "    capacity = int(firstLine[1])\n",
      "\n",
      "    items = []\n",
      "\n",
      "    for i in range(1, item_count+1):\n",
      "        line = lines[i]\n",
      "        parts = line.split()\n",
      "        items.append(Item(i-1, int(parts[0]), int(parts[1])))\n",
      "\n",
      "    #print_knapsack_info(items, item_count, capacity)\n",
      "    \n",
      "    # a trivial greedy algorithm for filling the knapsack\n",
      "    # it takes items in-order until the knapsack is full\n",
      "    value = 0\n",
      "    weight = 0\n",
      "    taken = [0]*len(items)\n",
      "    T = np.zeros((item_count,capacity+1), dtype=int)\n",
      "    \n",
      "    populate_T_arr(T,items,capacity)\n",
      "    #print_T(T)\n",
      "    \n",
      "    taken = get_chosen_items(T,items)\n",
      "    #print_chosen(taken)\n",
      "    \n",
      "    for idx in range(item_count):\n",
      "        if taken[idx]==1:\n",
      "            item=items[idx]\n",
      "            value += item.value\n",
      "            weight += item.weight\n",
      "    \n",
      "    # prepare the solution in the specified output format\n",
      "    output_data = str(value) + ' ' + str(0) + '\\n'\n",
      "    output_data += ' '.join(map(str, taken))\n",
      "    return output_data\n",
      "\n",
      "file_location = './data/ks_4_0'\n",
      "with open(file_location, 'r') as input_data_file:\n",
      "    input_data = input_data_file.read()\n",
      "print(solve_it(input_data))"
     ],
     "language": "python",
     "metadata": {},
     "outputs": [
      {
       "output_type": "stream",
       "stream": "stdout",
       "text": [
        "19 0\n",
        "0 0 1 1\n"
       ]
      }
     ],
     "prompt_number": 64
    },
    {
     "cell_type": "code",
     "collapsed": false,
     "input": [
      "file_location = './data/ks_19_0'\n",
      "with open(file_location, 'r') as input_data_file:\n",
      "    input_data = input_data_file.read()\n",
      "print(solve_it(input_data))"
     ],
     "language": "python",
     "metadata": {},
     "outputs": [
      {
       "output_type": "stream",
       "stream": "stdout",
       "text": [
        "12248 0\n",
        "0 0 1 0 0 1 0 1 0 0 0 0 1 1 0 0 0 0 0\n"
       ]
      }
     ],
     "prompt_number": 65
    },
    {
     "cell_type": "code",
     "collapsed": false,
     "input": [
      "import numpy as np\n",
      "T=np.zeros((2,3),dtype=int)\n",
      "T"
     ],
     "language": "python",
     "metadata": {},
     "outputs": [
      {
       "metadata": {},
       "output_type": "pyout",
       "prompt_number": 2,
       "text": [
        "array([[0, 0, 0],\n",
        "       [0, 0, 0]])"
       ]
      }
     ],
     "prompt_number": 2
    },
    {
     "cell_type": "code",
     "collapsed": false,
     "input": [
      "for j in range(4):\n",
      "    print j\n",
      "for j in range(3,-1,-1):\n",
      "    print j"
     ],
     "language": "python",
     "metadata": {},
     "outputs": [
      {
       "output_type": "stream",
       "stream": "stdout",
       "text": [
        "0\n",
        "1\n",
        "2\n",
        "3\n",
        "3\n",
        "2\n",
        "1\n",
        "0\n"
       ]
      }
     ],
     "prompt_number": 33
    },
    {
     "cell_type": "code",
     "collapsed": false,
     "input": [
      "['ks_10000_0',\n",
      " 'ks_1000_0',\n",
      " 'ks_100_0',\n",
      " 'ks_100_1',\n",
      " 'ks_100_2',\n",
      " 'ks_106_0',\n",
      " 'ks_19_0',\n",
      " 'ks_200_0',\n",
      " 'ks_200_1',\n",
      " 'ks_300_0',\n",
      " 'ks_30_0',\n",
      " 'ks_400_0',\n",
      " 'ks_40_0',\n",
      " 'ks_45_0',\n",
      " 'ks_4_0',\n",
      " 'ks_500_0',\n",
      " 'ks_50_0',\n",
      " 'ks_50_1',\n",
      " 'ks_60_0',\n",
      " 'ks_82_0',\n",
      " 'ks_lecture_dp_1',\n",
      " 'ks_lecture_dp_2']"
     ],
     "language": "python",
     "metadata": {},
     "outputs": []
    }
   ],
   "metadata": {}
  }
 ]
}